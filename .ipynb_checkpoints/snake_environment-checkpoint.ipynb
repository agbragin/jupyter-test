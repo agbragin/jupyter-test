{
 "cells": [
  {
   "cell_type": "code",
   "execution_count": 1,
   "metadata": {
    "pycharm": {
     "name": "#%%\n"
    }
   },
   "outputs": [],
   "source": [
    "import copy\n",
    "import random\n",
    "\n",
    "import cv2\n",
    "import numpy as np"
   ]
  },
  {
   "cell_type": "code",
   "execution_count": 2,
   "metadata": {
    "pycharm": {
     "name": "#%%\n"
    }
   },
   "outputs": [],
   "source": [
    "SCREEN_WIDTH = 720\n",
    "SCREEN_HEIGHT = 720\n",
    "\n",
    "LEFT_ARROW = 65361\n",
    "UP_ARROW = 65362\n",
    "RIGHT_ARROW = 65363\n",
    "DOWN_ARROW = 65364"
   ]
  },
  {
   "cell_type": "code",
   "execution_count": 3,
   "metadata": {
    "pycharm": {
     "name": "#%%\n"
    }
   },
   "outputs": [],
   "source": [
    "class Snake:\n",
    "\n",
    "    def __init__(self):\n",
    "        self.snake_x = 200\n",
    "        self.snake_y = 200\n",
    "        self.n_snake_blocks = 3\n",
    "\n",
    "        self.snake_body = self.__create_snake_body()\n",
    "        self.last_block_coords = self.snake_body[-1]\n",
    "\n",
    "        self.snake_vision_field = self.create_snake_vision_field()\n",
    "\n",
    "    def __create_snake_body(self):\n",
    "        return np.array([[self.snake_x, self.snake_y],\n",
    "                         [self.snake_x, self.snake_y - 8],\n",
    "                         [self.snake_x, self.snake_y - 16]])\n",
    "\n",
    "    def __move_snake_body(self):\n",
    "        snake_body_temp = copy.copy(self.snake_body)\n",
    "\n",
    "        for i in range(1, self.n_snake_blocks):\n",
    "            self.snake_body[i] = snake_body_temp[i - 1]\n",
    "\n",
    "    def __check_if_collided_with_wall(self):\n",
    "        result_x = 0 < self.snake_body[0, 0] < 720\n",
    "        result_y = 0 < self.snake_body[0, 1] < 720\n",
    "\n",
    "        return True if not result_x or not result_y else False\n",
    "\n",
    "    def __check_if_collided_with_body(self):\n",
    "        head_x = self.snake_body[0, 0]\n",
    "        head_y = self.snake_body[0, 1]\n",
    "\n",
    "        for i in range(1, len(self.snake_body)):\n",
    "            block_x = self.snake_body[i, 0]\n",
    "            block_y = self.snake_body[i, 1]\n",
    "\n",
    "            if head_x == block_x and head_y == block_y:\n",
    "                return True\n",
    "            else:\n",
    "                continue\n",
    "\n",
    "        return False\n",
    "\n",
    "    def create_snake_vision_field(self):\n",
    "        visible_field = []\n",
    "\n",
    "        for coord in self.snake_body:\n",
    "            x_min = coord[0] - 16\n",
    "            x_max = coord[0] + 16\n",
    "            y_min = coord[1] - 16\n",
    "            y_max = coord[1] - 16\n",
    "\n",
    "            visible_field.append([x_min, y_min, x_max, y_max])\n",
    "\n",
    "        return visible_field\n",
    "\n",
    "    def move(self, direction):\n",
    "        self.last_block_coords = self.snake_body[-1]\n",
    "\n",
    "        if direction == LEFT_ARROW:\n",
    "            self.__move_snake_body()\n",
    "            self.snake_body[0, 0] -= 8\n",
    "        elif direction == UP_ARROW:\n",
    "            self.__move_snake_body()\n",
    "            self.snake_body[0, 1] -= 8\n",
    "        elif direction == RIGHT_ARROW:\n",
    "            self.__move_snake_body()\n",
    "            self.snake_body[0, 0] += 8\n",
    "        elif direction == DOWN_ARROW:\n",
    "            self.__move_snake_body()\n",
    "            self.snake_body[0, 1] += 8\n",
    "\n",
    "        self.snake_vision_field = self.create_snake_vision_field()\n",
    "\n",
    "    def check_if_game_ended(self):\n",
    "        hit_wall = self.__check_if_collided_with_wall()\n",
    "        hit_itself = self.__check_if_collided_with_body()\n",
    "\n",
    "        if hit_wall or hit_itself:\n",
    "            return True\n",
    "        else:\n",
    "            return False\n",
    "\n",
    "    def add_block(self):\n",
    "        self.snake_body = np.append(self.snake_body, [self.last_block_coords], axis=0)\n",
    "        self.n_snake_blocks += 1\n",
    "\n"
   ]
  },
  {
   "cell_type": "code",
   "execution_count": 4,
   "metadata": {
    "pycharm": {
     "name": "#%%\n"
    }
   },
   "outputs": [
    {
     "data": {
      "text/plain": [
       "[[184, 184, 216, 184], [184, 176, 216, 176], [184, 168, 216, 168]]"
      ]
     },
     "execution_count": 4,
     "metadata": {},
     "output_type": "execute_result"
    }
   ],
   "source": [
    "snake = Snake()\n",
    "snake.create_snake_vision_field()\n"
   ]
  },
  {
   "cell_type": "code",
   "execution_count": 5,
   "metadata": {
    "pycharm": {
     "name": "#%%\n"
    }
   },
   "outputs": [],
   "source": [
    "\n",
    "class SnakeEnvoronment:\n",
    "\n",
    "    def __init__(self):\n",
    "        self.display_window = np.zeros((SCREEN_HEIGHT, SCREEN_WIDTH, 3), np.uint8)\n",
    "        self.food_color = (255, 242, 158)\n",
    "        self.snake_color = (200, 0, 0)\n",
    "        self.snake_rectangle_color = (255, 242, 158)\n",
    "        self.snake_rectangle_thickness = 1\n",
    "        self.snake_vision_field_color = (51, 0, 0)\n",
    "\n",
    "    def _draw_bbox_around_snake_block(self, snake_block_x_coord, snake_block_y_coord, snake_block_vision_field_coords):\n",
    "        pt_1 = (snake_block_x_coord - 4, snake_block_y_coord - 4)\n",
    "        pt_2 = (snake_block_x_coord + 4, snake_block_y_coord + 4)\n",
    "\n",
    "        pt_1_vision_field = (snake_block_vision_field_coords[0] - 4, snake_block_vision_field_coords[1] - 4)\n",
    "        pt_2_vision_field = (snake_block_vision_field_coords[2] + 4, snake_block_vision_field_coords[3] + 4)\n",
    "\n",
    "\n",
    "        cv2.rectangle(self.display_window, pt_1, pt_2, self.snake_rectangle_color, self.snake_rectangle_thickness)\n",
    "        cv2.rectangle(self.display_window, pt_1_vision_field, pt_2_vision_field, self.snake_vision_field_color, -1)\n",
    "\n",
    "    def resresh_window(self, food_coords, snake_body_array, snake_vision_field):\n",
    "        self.display_window = np.zeros((SCREEN_HEIGHT, SCREEN_WIDTH, 3), np.uint8)\n",
    "\n",
    "        food_pt_1 = (food_coords[0] - 4, food_coords[1] - 4)\n",
    "        food_pt_2 = (food_coords[0] + 4, food_coords[1] + 4)\n",
    "        cv2.rectangle(self.display_window, food_pt_1, food_pt_2, self.food_color, -1)\n",
    "\n",
    "        for i, snake_block in enumerate(snake_body_array):\n",
    "            snake_block_x = snake_block[0]\n",
    "            snake_block_y = snake_block[1]\n",
    "\n",
    "            snake_block_pt_1 = (snake_block_x - 4, snake_block_y - 4)\n",
    "            snake_block_pt_2 = (snake_block_x + 4, snake_block_y + 4)\n",
    "            cv2.rectangle(self.display_window, snake_block_pt_1, snake_block_pt_2, self.snake_color, -1)\n",
    "            self._draw_bbox_around_snake_block(snake_block_x, snake_block_y, snake_vision_field[i])\n",
    "\n"
   ]
  },
  {
   "cell_type": "code",
   "execution_count": 6,
   "metadata": {
    "pycharm": {
     "name": "#%%\n"
    }
   },
   "outputs": [],
   "source": [
    "\n",
    "def get_food_coordinates():\n",
    "    food_x = None\n",
    "    food_y = None\n",
    "\n",
    "    wait = True\n",
    "\n",
    "    while wait:\n",
    "        random_nr = random.randint(8, 712)\n",
    "\n",
    "        if random_nr % 8 == 0:\n",
    "            food_x = random_nr\n",
    "            wait = False\n",
    "\n",
    "    wait = True\n",
    "\n",
    "    while wait:\n",
    "        random_nr = random.randint(8, 712)\n",
    "\n",
    "        if random_nr % 8 == 0:\n",
    "            food_y = random_nr\n",
    "            wait = False\n",
    "\n",
    "    return food_x, food_y"
   ]
  },
  {
   "cell_type": "code",
   "execution_count": 7,
   "metadata": {
    "pycharm": {
     "name": "#%%\n"
    }
   },
   "outputs": [],
   "source": [
    "def check_if_found_food(snake_head_coords, food_coords):\n",
    "    if snake_head_coords[0] == food_coords[0] and snake_head_coords[1] == food_coords[1]:\n",
    "        return True\n",
    "    else:\n",
    "        return False"
   ]
  },
  {
   "cell_type": "code",
   "execution_count": 8,
   "metadata": {
    "pycharm": {
     "name": "#%%\n"
    }
   },
   "outputs": [],
   "source": [
    "def play_snake():\n",
    "    screen = SnakeEnvoronment()\n",
    "    snake = Snake()\n",
    "\n",
    "    # print(snake)\n",
    "\n",
    "    score = 0\n",
    "    food_coords = get_food_coordinates()\n",
    "    temp_direction = DOWN_ARROW\n",
    "\n",
    "    while True:\n",
    "        screen.resresh_window(food_coords, snake.snake_body, snake.snake_vision_field)\n",
    "        cv2.imshow('snake game', screen.display_window)\n",
    "        direction = cv2.waitKeyEx(50)\n",
    "\n",
    "        if direction != LEFT_ARROW and direction != UP_ARROW and direction != RIGHT_ARROW and direction != DOWN_ARROW:\n",
    "            snake.move(temp_direction)\n",
    "        else:\n",
    "            snake.move(direction)\n",
    "            temp_direction = direction\n",
    "\n",
    "        screen.resresh_window(food_coords, snake.snake_body, snake.snake_vision_field)\n",
    "        cv2.imshow('snake game', screen.display_window)\n",
    "\n",
    "        if snake.check_if_game_ended():\n",
    "            break\n",
    "\n",
    "        if check_if_found_food(snake.snake_body[0], food_coords):\n",
    "            snake.add_block()\n",
    "            food_coords = get_food_coordinates()\n",
    "            score += 1"
   ]
  },
  {
   "cell_type": "code",
   "execution_count": 9,
   "metadata": {
    "pycharm": {
     "name": "#%%\n"
    }
   },
   "outputs": [
    {
     "data": {
      "text/plain": [
       "[[184, 184, 216, 184], [184, 176, 216, 176], [184, 168, 216, 168]]"
      ]
     },
     "execution_count": 9,
     "metadata": {},
     "output_type": "execute_result"
    }
   ],
   "source": [
    "snake = Snake()\n",
    "snake.create_snake_vision_field()"
   ]
  },
  {
   "cell_type": "code",
   "execution_count": 10,
   "metadata": {
    "pycharm": {
     "name": "#%%\n"
    }
   },
   "outputs": [],
   "source": [
    "play_snake()"
   ]
  },
  {
   "cell_type": "code",
   "execution_count": null,
   "metadata": {
    "pycharm": {
     "name": "#%%\n"
    }
   },
   "outputs": [],
   "source": []
  }
 ],
 "metadata": {
  "kernelspec": {
   "display_name": "Python 3",
   "language": "python",
   "name": "python3"
  },
  "language_info": {
   "codemirror_mode": {
    "name": "ipython",
    "version": 3
   },
   "file_extension": ".py",
   "mimetype": "text/x-python",
   "name": "python",
   "nbconvert_exporter": "python",
   "pygments_lexer": "ipython3",
   "version": "3.9.6"
  }
 },
 "nbformat": 4,
 "nbformat_minor": 1
}
