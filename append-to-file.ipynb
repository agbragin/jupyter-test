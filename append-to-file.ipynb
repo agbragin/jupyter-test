{
 "cells": [
  {
   "cell_type": "code",
   "execution_count": 8,
   "metadata": {
    "collapsed": true,
    "pycharm": {
     "name": "#%%\n"
    }
   },
   "outputs": [],
   "source": [
    "import pandas as pd\n",
    "\n",
    "for i in range(200):\n",
    "    df = pd.DataFrame.from_dict({'a': [x + i * 1000 for x in range(1000)],\n",
    "                                 'created_utc': 1201321226,\n",
    "                                 'title': 'Gandhi grandson quits non-violence institute',\n",
    "                                 'url': 'http://www.msnbc.msn.com/id/22840727/'})\n",
    "    df.to_csv('append.csv', mode='a', header=False, index=False)"
   ]
  }
 ],
 "metadata": {
  "kernelspec": {
   "display_name": "Python 3",
   "language": "python",
   "name": "python3"
  },
  "language_info": {
   "codemirror_mode": {
    "name": "ipython",
    "version": 2
   },
   "file_extension": ".py",
   "mimetype": "text/x-python",
   "name": "python",
   "nbconvert_exporter": "python",
   "pygments_lexer": "ipython2",
   "version": "2.7.6"
  }
 },
 "nbformat": 4,
 "nbformat_minor": 0
}